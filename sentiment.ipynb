{
 "cells": [
  {
   "cell_type": "code",
   "execution_count": null,
   "id": "3b0e0f30",
   "metadata": {},
   "outputs": [],
   "source": [
    "#setup"
   ]
  },
  {
   "cell_type": "code",
   "execution_count": 5,
   "id": "24cd3172",
   "metadata": {},
   "outputs": [],
   "source": [
    "import sys, os\n",
    "sys.path.insert(0,os.path.realpath(\"./fastai/old\"))\n",
    "\n",
    "import fastai\n",
    "\n",
    "from fastai.text import *\n",
    "\n",
    "import warnings\n",
    "\n",
    "#from fastai.plots import *\n",
    "\n",
    "from sklearn.metrics import confusion_matrix\n",
    "import functools\n",
    "\n",
    "from scipy.stats import zscore\n",
    "\n",
    "import requests\n",
    "from io import BytesIO\n",
    "from zipfile import ZipFile\n",
    "from bs4 import BeautifulSoup\n",
    "import matplotlib.pyplot as plt\n",
    "import matplotlib.patches as patches\n",
    "import datetime as dt\n",
    "import matplotlib.dates as mdates\n",
    "from datetime import datetime, timedelta"
   ]
  },
  {
   "cell_type": "code",
   "execution_count": 4,
   "id": "16fbe5ea",
   "metadata": {},
   "outputs": [],
   "source": [
    "torch.backends.cudnn.enabled = False\n"
   ]
  },
  {
   "cell_type": "code",
   "execution_count": null,
   "id": "ba14add7",
   "metadata": {},
   "outputs": [],
   "source": [
    "PATH=Path('data/boc/')\n",
    "\n",
    "CLAS_PATH=Path('data/boc_clas/')\n",
    "CLAS_PATH.mkdir(exist_ok=True)\n",
    "\n",
    "LM_PATH=Path('data/boc_lm/')\n",
    "LM_PATH.mkdir(exist_ok=True)"
   ]
  },
  {
   "cell_type": "code",
   "execution_count": null,
   "id": "04536990",
   "metadata": {},
   "outputs": [],
   "source": [
    "# training and validation"
   ]
  },
  {
   "cell_type": "code",
   "execution_count": null,
   "id": "23e6646c",
   "metadata": {},
   "outputs": [],
   "source": [
    "CLASSES = ['neg', 'pos', 'unsup', 'meh']\n",
    "\n",
    "def get_texts(path):\n",
    "    texts,labels = [],[]\n",
    "    for idx,label in enumerate(CLASSES):\n",
    "        with open(str(path/(label+\".txt\")), \"tr\") as f:\n",
    "            for line in f:\n",
    "                texts.append(\"xbos xfld 1 \" + line.rstrip())\n",
    "                labels.append(idx)\n",
    "    return np.array(texts),np.array(labels)\n",
    "\n",
    "trn_texts,trn_labels = get_texts(PATH/'train')"
   ]
  },
  {
   "cell_type": "code",
   "execution_count": null,
   "id": "505dc8a8",
   "metadata": {},
   "outputs": [],
   "source": [
    "# Total number of sentences\n",
    "len(trn_texts)"
   ]
  },
  {
   "cell_type": "code",
   "execution_count": null,
   "id": "d6858ff6",
   "metadata": {},
   "outputs": [],
   "source": []
  },
  {
   "cell_type": "code",
   "execution_count": null,
   "id": "b800e0d7",
   "metadata": {},
   "outputs": [],
   "source": []
  }
 ],
 "metadata": {
  "kernelspec": {
   "display_name": "Python 3 (ipykernel)",
   "language": "python",
   "name": "python3"
  },
  "language_info": {
   "codemirror_mode": {
    "name": "ipython",
    "version": 3
   },
   "file_extension": ".py",
   "mimetype": "text/x-python",
   "name": "python",
   "nbconvert_exporter": "python",
   "pygments_lexer": "ipython3",
   "version": "3.11.4"
  }
 },
 "nbformat": 4,
 "nbformat_minor": 5
}
