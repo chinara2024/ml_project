{
 "cells": [
  {
   "cell_type": "code",
   "execution_count": null,
   "id": "cdccdfe2",
   "metadata": {},
   "outputs": [],
   "source": [
    "#setup"
   ]
  },
  {
   "cell_type": "code",
   "execution_count": 212,
   "id": "c0c9d9cb",
   "metadata": {},
   "outputs": [],
   "source": [
    "import sys, os\n",
    "sys.path.insert(0,os.path.realpath(\"./fastai/old\"))\n",
    "\n",
    "import fastai\n",
    "from fastai.text.all import *\n",
    "#from fastai.plots.all import *\n",
    "\n",
    "import spacy \n",
    "\n",
    "import warnings\n",
    "\n",
    "from sklearn.metrics import confusion_matrix\n",
    "import functools\n",
    "\n",
    "import torch\n",
    "import pickle\n",
    "\n",
    "from scipy.stats import zscore\n",
    "\n",
    "import requests\n",
    "from io import BytesIO\n",
    "from zipfile import ZipFile\n",
    "from bs4 import BeautifulSoup\n",
    "import matplotlib.pyplot as plt\n",
    "import matplotlib.patches as patches\n",
    "import datetime as dt\n",
    "import matplotlib.dates as mdates\n",
    "from datetime import datetime, timedelta\n",
    "\n",
    "from pathlib import Path\n",
    "\n",
    "import numpy as np\n",
    "import pandas as pd\n",
    "from sklearn import model_selection"
   ]
  },
  {
   "cell_type": "code",
   "execution_count": 156,
   "id": "b7809b48",
   "metadata": {},
   "outputs": [],
   "source": [
    "torch.backends.cudnn.enabled = False"
   ]
  },
  {
   "cell_type": "code",
   "execution_count": 218,
   "id": "2c5f6f88",
   "metadata": {},
   "outputs": [
    {
     "name": "stdout",
     "output_type": "stream",
     "text": [
      "/Users/tina/Desktop/GitHub/ml_project\n"
     ]
    }
   ],
   "source": [
    "cwd = os.getcwd()\n",
    "print(cwd)"
   ]
  },
  {
   "cell_type": "code",
   "execution_count": null,
   "id": "826538b0",
   "metadata": {},
   "outputs": [],
   "source": [
    "# training and validation"
   ]
  },
  {
   "cell_type": "code",
   "execution_count": 220,
   "id": "973a1318",
   "metadata": {},
   "outputs": [],
   "source": [
    "PATH=Path('data/boc/')\n",
    "CLAS_PATH=Path('data/clas/')\n",
    "LM_PATH=Path('data/lm/')"
   ]
  },
  {
   "cell_type": "code",
   "execution_count": 157,
   "id": "54a829df",
   "metadata": {},
   "outputs": [],
   "source": [
    "CLASSES = ['neg', 'pos', 'unsup', 'meh']\n",
    "\n",
    "def get_texts(path):\n",
    "    texts,labels = [],[]\n",
    "    for idx,label in enumerate(CLASSES):\n",
    "        with open(str(path/(label+\".txt\")), \"tr\") as f:\n",
    "            for line in f:\n",
    "                texts.append(\"xbos xfld 1 \" + line.rstrip())\n",
    "                labels.append(idx)\n",
    "    return np.array(texts),np.array(labels)\n",
    "\n",
    "trn_texts,trn_labels = get_texts(PATH/'train')"
   ]
  },
  {
   "cell_type": "code",
   "execution_count": 160,
   "id": "f4db05e5",
   "metadata": {},
   "outputs": [
    {
     "data": {
      "text/plain": [
       "14921"
      ]
     },
     "execution_count": 160,
     "metadata": {},
     "output_type": "execute_result"
    }
   ],
   "source": [
    "len(trn_texts)"
   ]
  },
  {
   "cell_type": "code",
   "execution_count": 161,
   "id": "3f0a4182",
   "metadata": {},
   "outputs": [
    {
     "name": "stdout",
     "output_type": "stream",
     "text": [
      "['xbos xfld 1 The shutdown will dampen economic growth in the fourth quarter, through the direct effect of furloughed government workers, and, more broadly, through negative effects on confidence.'\n",
      " 'xbos xfld 1 In contrast, the economies of Brazil, Russia and Turkey are much weaker, partly as a result of political or geopolitical tensions.'\n",
      " 'xbos xfld 1 In the euro area, real economic activity in the final quarter of 2004 was also weaker than anticipated, and the outlook has been revised down marginally.'\n",
      " 'xbos xfld 1 Recovery in the advanced economies is still expected to be subdued, since private demand remains weak in most of these countries and fiscal stimulus will start to wind down later this year.']\n"
     ]
    }
   ],
   "source": [
    "print(trn_texts[1:5])"
   ]
  },
  {
   "cell_type": "code",
   "execution_count": 162,
   "id": "c2b6e0d6",
   "metadata": {},
   "outputs": [],
   "source": [
    "#shuffling sentences\n",
    "\n",
    "np.random.seed(np.prod([ord(c) for c in 'deaa']))\n",
    "trn_idx = np.random.permutation(len(trn_texts))\n",
    "trn_texts = trn_texts[trn_idx]\n",
    "trn_labels = trn_labels[trn_idx]"
   ]
  },
  {
   "cell_type": "code",
   "execution_count": 163,
   "id": "6c701de6",
   "metadata": {},
   "outputs": [],
   "source": [
    "# data split\n",
    "\n",
    "trn_texts,val_texts = sklearn.model_selection.train_test_split(\n",
    "    np.concatenate([trn_texts]), test_size=0.1)"
   ]
  },
  {
   "cell_type": "code",
   "execution_count": 164,
   "id": "35f3f67f",
   "metadata": {},
   "outputs": [
    {
     "data": {
      "text/plain": [
       "(13428, 1493)"
      ]
     },
     "execution_count": 164,
     "metadata": {},
     "output_type": "execute_result"
    }
   ],
   "source": [
    "len(trn_texts), len(val_texts)"
   ]
  },
  {
   "cell_type": "code",
   "execution_count": null,
   "id": "0b4c63bd",
   "metadata": {},
   "outputs": [],
   "source": [
    "#format daa + store as CSV "
   ]
  },
  {
   "cell_type": "code",
   "execution_count": 165,
   "id": "dfdfb7b4",
   "metadata": {},
   "outputs": [],
   "source": [
    "col_names = ['labels','text']\n",
    "\n",
    "df_trn = pd.DataFrame({'text':trn_texts, 'labels':[0]*len(trn_texts)}, columns=col_names)\n",
    "df_val = pd.DataFrame({'text':val_texts, 'labels':[0]*len(val_texts)}, columns=col_names)\n",
    "\n",
    "df_trn.to_csv(LM_PATH/'train.csv', header=False, index=False)\n",
    "df_val.to_csv(LM_PATH/'test.csv', header=False, index=False)\n",
    "\n",
    "df_trn = pd.read_csv(LM_PATH/'train.csv', header=None)#, chunksize=chunksize)\n",
    "df_val = pd.read_csv(LM_PATH/'test.csv', header=None)#, chunksize=chunksize)"
   ]
  },
  {
   "cell_type": "code",
   "execution_count": 166,
   "id": "e9bf2e5b",
   "metadata": {},
   "outputs": [
    {
     "data": {
      "text/html": [
       "<div>\n",
       "<style scoped>\n",
       "    .dataframe tbody tr th:only-of-type {\n",
       "        vertical-align: middle;\n",
       "    }\n",
       "\n",
       "    .dataframe tbody tr th {\n",
       "        vertical-align: top;\n",
       "    }\n",
       "\n",
       "    .dataframe thead th {\n",
       "        text-align: right;\n",
       "    }\n",
       "</style>\n",
       "<table border=\"1\" class=\"dataframe\">\n",
       "  <thead>\n",
       "    <tr style=\"text-align: right;\">\n",
       "      <th></th>\n",
       "      <th>0</th>\n",
       "      <th>1</th>\n",
       "    </tr>\n",
       "  </thead>\n",
       "  <tbody>\n",
       "    <tr>\n",
       "      <th>0</th>\n",
       "      <td>0</td>\n",
       "      <td>xbos xfld 1 Growth in the broad monetary aggregates has moderated as well, mainly reflecting the contribution from narrow money.</td>\n",
       "    </tr>\n",
       "    <tr>\n",
       "      <th>1</th>\n",
       "      <td>0</td>\n",
       "      <td>xbos xfld 1 It will then increase modestly to close to 3 per cent over the four quarters of 2006 and through 2007.</td>\n",
       "    </tr>\n",
       "    <tr>\n",
       "      <th>2</th>\n",
       "      <td>0</td>\n",
       "      <td>xbos xfld 1 Household credit continues to grow at a pace near its average since 1992 and has picked up in recent months.</td>\n",
       "    </tr>\n",
       "    <tr>\n",
       "      <th>3</th>\n",
       "      <td>0</td>\n",
       "      <td>xbos xfld 1 In line with developments in the core inflation rate, total CPI inflation is also expected to return to the Bank's 2 per cent target in the third quarter of 2011.</td>\n",
       "    </tr>\n",
       "    <tr>\n",
       "      <th>4</th>\n",
       "      <td>0</td>\n",
       "      <td>xbos xfld 1 The output gap, estimated at 1 per cent in the third quarter of 2004, is projected to narrow further during 2006.</td>\n",
       "    </tr>\n",
       "    <tr>\n",
       "      <th>...</th>\n",
       "      <td>...</td>\n",
       "      <td>...</td>\n",
       "    </tr>\n",
       "    <tr>\n",
       "      <th>13423</th>\n",
       "      <td>0</td>\n",
       "      <td>xbos xfld 1 Growth in the \"rest of the world\" grouping is expected to increase from about 1 3/4 per cent in 2017 to around 2 3/4 per cent in 2019.</td>\n",
       "    </tr>\n",
       "    <tr>\n",
       "      <th>13424</th>\n",
       "      <td>0</td>\n",
       "      <td>xbos xfld 1 Since reaching a three-year high of approximately 69 cents US at the time of the last Report, the Canadian dollar has continued its sharp appreciation, rising above 75 cents in October.</td>\n",
       "    </tr>\n",
       "    <tr>\n",
       "      <th>13425</th>\n",
       "      <td>0</td>\n",
       "      <td>xbos xfld 1 The rise in the Canadian dollar prices received by Canadian commodity producers has been magnified by the depreciation of the Canadian dollar and has been reflected in the marked 9 per cent rise over the past year in the aggregate industrial product price index as well as in the sharp rise in aggregate export prices.</td>\n",
       "    </tr>\n",
       "    <tr>\n",
       "      <th>13426</th>\n",
       "      <td>0</td>\n",
       "      <td>xbos xfld 1 In assessing the outlook for inflation, the Bank must consider various factors, including the external economic environment, the momentum of the Canadian economy and the implications of monetary conditions for the future course of aggregate demand.</td>\n",
       "    </tr>\n",
       "    <tr>\n",
       "      <th>13427</th>\n",
       "      <td>0</td>\n",
       "      <td>xbos xfld 1 CPI inflation has fallen since the beginning of the year, reaching an estimated 1.4 per cent on average in the second quarter, while two of the Bank's three measures of core inflation have also continued to decline.</td>\n",
       "    </tr>\n",
       "  </tbody>\n",
       "</table>\n",
       "<p>13428 rows × 2 columns</p>\n",
       "</div>"
      ],
      "text/plain": [
       "       0  \\\n",
       "0      0   \n",
       "1      0   \n",
       "2      0   \n",
       "3      0   \n",
       "4      0   \n",
       "...   ..   \n",
       "13423  0   \n",
       "13424  0   \n",
       "13425  0   \n",
       "13426  0   \n",
       "13427  0   \n",
       "\n",
       "                                                                                                                                                                                                                                                                                                                                                1  \n",
       "0                                                                                                                                                                                                                xbos xfld 1 Growth in the broad monetary aggregates has moderated as well, mainly reflecting the contribution from narrow money.  \n",
       "1                                                                                                                                                                                                                              xbos xfld 1 It will then increase modestly to close to 3 per cent over the four quarters of 2006 and through 2007.  \n",
       "2                                                                                                                                                                                                                        xbos xfld 1 Household credit continues to grow at a pace near its average since 1992 and has picked up in recent months.  \n",
       "3                                                                                                                                                                  xbos xfld 1 In line with developments in the core inflation rate, total CPI inflation is also expected to return to the Bank's 2 per cent target in the third quarter of 2011.  \n",
       "4                                                                                                                                                                                                                   xbos xfld 1 The output gap, estimated at 1 per cent in the third quarter of 2004, is projected to narrow further during 2006.  \n",
       "...                                                                                                                                                                                                                                                                                                                                           ...  \n",
       "13423                                                                                                                                                                                          xbos xfld 1 Growth in the \"rest of the world\" grouping is expected to increase from about 1 3/4 per cent in 2017 to around 2 3/4 per cent in 2019.  \n",
       "13424                                                                                                                                       xbos xfld 1 Since reaching a three-year high of approximately 69 cents US at the time of the last Report, the Canadian dollar has continued its sharp appreciation, rising above 75 cents in October.  \n",
       "13425  xbos xfld 1 The rise in the Canadian dollar prices received by Canadian commodity producers has been magnified by the depreciation of the Canadian dollar and has been reflected in the marked 9 per cent rise over the past year in the aggregate industrial product price index as well as in the sharp rise in aggregate export prices.  \n",
       "13426                                                                        xbos xfld 1 In assessing the outlook for inflation, the Bank must consider various factors, including the external economic environment, the momentum of the Canadian economy and the implications of monetary conditions for the future course of aggregate demand.  \n",
       "13427                                                                                                         xbos xfld 1 CPI inflation has fallen since the beginning of the year, reaching an estimated 1.4 per cent on average in the second quarter, while two of the Bank's three measures of core inflation have also continued to decline.  \n",
       "\n",
       "[13428 rows x 2 columns]"
      ]
     },
     "execution_count": 166,
     "metadata": {},
     "output_type": "execute_result"
    }
   ],
   "source": [
    "df_trn"
   ]
  },
  {
   "cell_type": "code",
   "execution_count": null,
   "id": "1bda8438",
   "metadata": {},
   "outputs": [],
   "source": [
    "#tokenizating text"
   ]
  },
  {
   "cell_type": "code",
   "execution_count": 180,
   "id": "7b0b05a8",
   "metadata": {},
   "outputs": [],
   "source": [
    "import numpy as np\n",
    "import spacy\n",
    "\n",
    "# using spacy tokenizer instead of Fastai \n",
    "nlp = spacy.load(\"en_core_web_sm\")\n",
    "\n",
    "def get_tokenized_texts(df, n_lbls=1, tokenizer=nlp):\n",
    "    labels = df.iloc[:, range(n_lbls)].values.astype(np.int64)\n",
    "    texts = df.iloc[:, 1].astype(str)\n",
    "    tok = [[token.text for token in tokenizer(text)] for text in texts]\n",
    "    return tok, list(labels)"
   ]
  },
  {
   "cell_type": "code",
   "execution_count": 181,
   "id": "8f79e541",
   "metadata": {},
   "outputs": [],
   "source": [
    "tok_trn, trn_labels = get_tokenized_texts(df_trn)\n",
    "tok_val, val_labels = get_tokenized_texts(df_val)"
   ]
  },
  {
   "cell_type": "code",
   "execution_count": 182,
   "id": "fdf89c9d",
   "metadata": {},
   "outputs": [
    {
     "data": {
      "text/plain": [
       "[('the', 22335),\n",
       " (',', 15700),\n",
       " ('in', 14321),\n",
       " ('1', 13682),\n",
       " ('xbos', 13428),\n",
       " ('xfld', 13428),\n",
       " ('.', 13424),\n",
       " ('of', 11811),\n",
       " ('to', 10568),\n",
       " ('and', 8602)]"
      ]
     },
     "execution_count": 182,
     "metadata": {},
     "output_type": "execute_result"
    }
   ],
   "source": [
    "freq = Counter(p for o in tok_trn for p in o)\n",
    "freq.most_common(10)"
   ]
  },
  {
   "cell_type": "code",
   "execution_count": 188,
   "id": "013ec1b4",
   "metadata": {},
   "outputs": [],
   "source": [
    "max_vocab = 3000\n",
    "min_freq = 2\n",
    "\n",
    "itos = [o for o,c in freq.most_common(max_vocab) if c>min_freq]\n",
    "itos.insert(0, '_pad_')\n",
    "itos.insert(0, '_unk_')"
   ]
  },
  {
   "cell_type": "code",
   "execution_count": 189,
   "id": "284953cf",
   "metadata": {},
   "outputs": [
    {
     "data": {
      "text/plain": [
       "3002"
      ]
     },
     "execution_count": 189,
     "metadata": {},
     "output_type": "execute_result"
    }
   ],
   "source": [
    "len(itos)"
   ]
  },
  {
   "cell_type": "code",
   "execution_count": 199,
   "id": "653e4126",
   "metadata": {},
   "outputs": [],
   "source": [
    "stoi = collections.defaultdict(lambda:0, {v:k for k,v in enumerate(itos)})\n",
    "vs = len(itos)"
   ]
  },
  {
   "cell_type": "code",
   "execution_count": 191,
   "id": "01ef7f4e",
   "metadata": {},
   "outputs": [
    {
     "ename": "ValueError",
     "evalue": "setting an array element with a sequence. The requested array has an inhomogeneous shape after 1 dimensions. The detected shape was (13428,) + inhomogeneous part.",
     "output_type": "error",
     "traceback": [
      "\u001b[0;31m---------------------------------------------------------------------------\u001b[0m",
      "\u001b[0;31mValueError\u001b[0m                                Traceback (most recent call last)",
      "Cell \u001b[0;32mIn[191], line 1\u001b[0m\n\u001b[0;32m----> 1\u001b[0m trn_lm \u001b[38;5;241m=\u001b[39m np\u001b[38;5;241m.\u001b[39marray([[stoi[o] \u001b[38;5;28;01mfor\u001b[39;00m o \u001b[38;5;129;01min\u001b[39;00m p] \u001b[38;5;28;01mfor\u001b[39;00m p \u001b[38;5;129;01min\u001b[39;00m tok_trn])\n\u001b[1;32m      2\u001b[0m val_lm \u001b[38;5;241m=\u001b[39m np\u001b[38;5;241m.\u001b[39marray([[stoi[o] \u001b[38;5;28;01mfor\u001b[39;00m o \u001b[38;5;129;01min\u001b[39;00m p] \u001b[38;5;28;01mfor\u001b[39;00m p \u001b[38;5;129;01min\u001b[39;00m tok_val])\n",
      "\u001b[0;31mValueError\u001b[0m: setting an array element with a sequence. The requested array has an inhomogeneous shape after 1 dimensions. The detected shape was (13428,) + inhomogeneous part."
     ]
    }
   ],
   "source": [
    "trn_lm = np.array([[stoi[o] for o in p] for p in tok_trn])\n",
    "val_lm = np.array([[stoi[o] for o in p] for p in tok_val])"
   ]
  },
  {
   "cell_type": "code",
   "execution_count": 198,
   "id": "c1d8edf2",
   "metadata": {},
   "outputs": [
    {
     "name": "stdout",
     "output_type": "stream",
     "text": [
      "[['xbos', 'xfld', '1', 'It', 'will', 'then', 'increase', 'modestly', 'to', 'close', 'to', '3', 'per', 'cent', 'over', 'the', 'four', 'quarters', 'of', '2006', 'and', 'through', '2007', '.']]\n"
     ]
    }
   ],
   "source": [
    "print(tok_trn[1:2])"
   ]
  },
  {
   "cell_type": "code",
   "execution_count": 200,
   "id": "51806a5c",
   "metadata": {},
   "outputs": [],
   "source": [
    "import numpy as np\n",
    "\n",
    "# Assume `tok_trn` and `tok_val` are lists of tokenized texts\n",
    "\n",
    "# Find the maximum length of sequences in both training and validation sets\n",
    "max_length = max(max(len(seq) for seq in tok_trn), max(len(seq) for seq in tok_val))\n",
    "\n",
    "# Define the padding token\n",
    "padding_token = '_pad_'\n",
    "\n",
    "# Pad sequences in both training and validation sets\n",
    "tok_trn_padded = [seq + [padding_token] * (max_length - len(seq)) for seq in tok_trn]\n",
    "tok_val_padded = [seq + [padding_token] * (max_length - len(seq)) for seq in tok_val]\n",
    "\n",
    "# Convert padded sequences to NumPy arrays\n",
    "trn_lm = np.array([[stoi[o] for o in p] for p in tok_trn_padded])\n",
    "val_lm = np.array([[stoi[o] for o in p] for p in tok_val_padded])"
   ]
  },
  {
   "cell_type": "code",
   "execution_count": 202,
   "id": "8a506bc7",
   "metadata": {},
   "outputs": [
    {
     "name": "stdout",
     "output_type": "stream",
     "text": [
      "98\n"
     ]
    }
   ],
   "source": [
    "print(max_length)"
   ]
  },
  {
   "cell_type": "code",
   "execution_count": 205,
   "id": "6f8f795d",
   "metadata": {},
   "outputs": [
    {
     "name": "stdout",
     "output_type": "stream",
     "text": [
      "['xbos', 'xfld', '1', 'CPI', 'inflation', 'has', 'fallen', 'since', 'the', 'beginning', 'of', 'the', 'year', ',', 'reaching', 'an', 'estimated', '1.4', 'per', 'cent', 'on', 'average', 'in', 'the', 'second', 'quarter', ',', 'while', 'two', 'of', 'the', 'Bank', \"'s\", 'three', 'measures', 'of', 'core', 'inflation', 'have', 'also', 'continued', 'to', 'decline', '.']\n"
     ]
    }
   ],
   "source": [
    "print(seq)"
   ]
  },
  {
   "cell_type": "code",
   "execution_count": null,
   "id": "41aac00f",
   "metadata": {},
   "outputs": [],
   "source": [
    "# building LM model"
   ]
  },
  {
   "cell_type": "code",
   "execution_count": 207,
   "id": "19720013",
   "metadata": {},
   "outputs": [],
   "source": [
    "em_sz,nh,nl = 400,1150,3"
   ]
  },
  {
   "cell_type": "code",
   "execution_count": 228,
   "id": "da9bc7bc",
   "metadata": {},
   "outputs": [],
   "source": [
    "PRE_PATH = PATH/'models'/'wt103'\n",
    "PRE_LM_PATH = PRE_PATH/'fwd_wt103.h5'"
   ]
  },
  {
   "cell_type": "code",
   "execution_count": 229,
   "id": "16af5bf9",
   "metadata": {},
   "outputs": [],
   "source": [
    "import h5py"
   ]
  },
  {
   "cell_type": "code",
   "execution_count": null,
   "id": "80ca4afd",
   "metadata": {},
   "outputs": [],
   "source": []
  },
  {
   "cell_type": "code",
   "execution_count": 230,
   "id": "d1afaa8f",
   "metadata": {},
   "outputs": [
    {
     "ename": "UnpicklingError",
     "evalue": "invalid load key, 'v'.",
     "output_type": "error",
     "traceback": [
      "\u001b[0;31m---------------------------------------------------------------------------\u001b[0m",
      "\u001b[0;31mUnpicklingError\u001b[0m                           Traceback (most recent call last)",
      "Cell \u001b[0;32mIn[230], line 1\u001b[0m\n\u001b[0;32m----> 1\u001b[0m wgts \u001b[38;5;241m=\u001b[39m torch\u001b[38;5;241m.\u001b[39mload(PRE_LM_PATH, map_location\u001b[38;5;241m=\u001b[39m\u001b[38;5;28;01mlambda\u001b[39;00m storage, loc: storage)\n",
      "File \u001b[0;32m~/anaconda3/lib/python3.11/site-packages/torch/serialization.py:1040\u001b[0m, in \u001b[0;36mload\u001b[0;34m(f, map_location, pickle_module, weights_only, mmap, **pickle_load_args)\u001b[0m\n\u001b[1;32m   1038\u001b[0m     \u001b[38;5;28;01mexcept\u001b[39;00m \u001b[38;5;167;01mRuntimeError\u001b[39;00m \u001b[38;5;28;01mas\u001b[39;00m e:\n\u001b[1;32m   1039\u001b[0m         \u001b[38;5;28;01mraise\u001b[39;00m pickle\u001b[38;5;241m.\u001b[39mUnpicklingError(UNSAFE_MESSAGE \u001b[38;5;241m+\u001b[39m \u001b[38;5;28mstr\u001b[39m(e)) \u001b[38;5;28;01mfrom\u001b[39;00m \u001b[38;5;28;01mNone\u001b[39;00m\n\u001b[0;32m-> 1040\u001b[0m \u001b[38;5;28;01mreturn\u001b[39;00m _legacy_load(opened_file, map_location, pickle_module, \u001b[38;5;241m*\u001b[39m\u001b[38;5;241m*\u001b[39mpickle_load_args)\n",
      "File \u001b[0;32m~/anaconda3/lib/python3.11/site-packages/torch/serialization.py:1258\u001b[0m, in \u001b[0;36m_legacy_load\u001b[0;34m(f, map_location, pickle_module, **pickle_load_args)\u001b[0m\n\u001b[1;32m   1252\u001b[0m \u001b[38;5;28;01mif\u001b[39;00m \u001b[38;5;129;01mnot\u001b[39;00m \u001b[38;5;28mhasattr\u001b[39m(f, \u001b[38;5;124m'\u001b[39m\u001b[38;5;124mreadinto\u001b[39m\u001b[38;5;124m'\u001b[39m) \u001b[38;5;129;01mand\u001b[39;00m (\u001b[38;5;241m3\u001b[39m, \u001b[38;5;241m8\u001b[39m, \u001b[38;5;241m0\u001b[39m) \u001b[38;5;241m<\u001b[39m\u001b[38;5;241m=\u001b[39m sys\u001b[38;5;241m.\u001b[39mversion_info \u001b[38;5;241m<\u001b[39m (\u001b[38;5;241m3\u001b[39m, \u001b[38;5;241m8\u001b[39m, \u001b[38;5;241m2\u001b[39m):\n\u001b[1;32m   1253\u001b[0m     \u001b[38;5;28;01mraise\u001b[39;00m \u001b[38;5;167;01mRuntimeError\u001b[39;00m(\n\u001b[1;32m   1254\u001b[0m         \u001b[38;5;124m\"\u001b[39m\u001b[38;5;124mtorch.load does not work with file-like objects that do not implement readinto on Python 3.8.0 and 3.8.1. \u001b[39m\u001b[38;5;124m\"\u001b[39m\n\u001b[1;32m   1255\u001b[0m         \u001b[38;5;124mf\u001b[39m\u001b[38;5;124m\"\u001b[39m\u001b[38;5;124mReceived object of type \u001b[39m\u001b[38;5;130;01m\\\"\u001b[39;00m\u001b[38;5;132;01m{\u001b[39;00m\u001b[38;5;28mtype\u001b[39m(f)\u001b[38;5;132;01m}\u001b[39;00m\u001b[38;5;130;01m\\\"\u001b[39;00m\u001b[38;5;124m. Please update to Python 3.8.2 or newer to restore this \u001b[39m\u001b[38;5;124m\"\u001b[39m\n\u001b[1;32m   1256\u001b[0m         \u001b[38;5;124m\"\u001b[39m\u001b[38;5;124mfunctionality.\u001b[39m\u001b[38;5;124m\"\u001b[39m)\n\u001b[0;32m-> 1258\u001b[0m magic_number \u001b[38;5;241m=\u001b[39m pickle_module\u001b[38;5;241m.\u001b[39mload(f, \u001b[38;5;241m*\u001b[39m\u001b[38;5;241m*\u001b[39mpickle_load_args)\n\u001b[1;32m   1259\u001b[0m \u001b[38;5;28;01mif\u001b[39;00m magic_number \u001b[38;5;241m!=\u001b[39m MAGIC_NUMBER:\n\u001b[1;32m   1260\u001b[0m     \u001b[38;5;28;01mraise\u001b[39;00m \u001b[38;5;167;01mRuntimeError\u001b[39;00m(\u001b[38;5;124m\"\u001b[39m\u001b[38;5;124mInvalid magic number; corrupt file?\u001b[39m\u001b[38;5;124m\"\u001b[39m)\n",
      "\u001b[0;31mUnpicklingError\u001b[0m: invalid load key, 'v'."
     ]
    }
   ],
   "source": [
    "wgts = torch.load(PRE_LM_PATH, map_location=lambda storage, loc: storage)"
   ]
  },
  {
   "cell_type": "code",
   "execution_count": 234,
   "id": "4758622e",
   "metadata": {},
   "outputs": [],
   "source": [
    "#enc_wgts = to_np(wgts['0.encoder.weight'])\n",
    "#row_m = enc_wgts.mean(0)"
   ]
  },
  {
   "cell_type": "code",
   "execution_count": 235,
   "id": "0b6edcc0",
   "metadata": {},
   "outputs": [
    {
     "ename": "OSError",
     "evalue": "Unable to open file (file signature not found)",
     "output_type": "error",
     "traceback": [
      "\u001b[0;31m---------------------------------------------------------------------------\u001b[0m",
      "\u001b[0;31mOSError\u001b[0m                                   Traceback (most recent call last)",
      "Cell \u001b[0;32mIn[235], line 2\u001b[0m\n\u001b[1;32m      1\u001b[0m \u001b[38;5;66;03m# Open the HDF5 file\u001b[39;00m\n\u001b[0;32m----> 2\u001b[0m \u001b[38;5;28;01mwith\u001b[39;00m h5py\u001b[38;5;241m.\u001b[39mFile(PRE_LM_PATH, \u001b[38;5;124m'\u001b[39m\u001b[38;5;124mr\u001b[39m\u001b[38;5;124m'\u001b[39m) \u001b[38;5;28;01mas\u001b[39;00m f:\n\u001b[1;32m      3\u001b[0m     \u001b[38;5;66;03m# Read the dataset(s) from the HDF5 file\u001b[39;00m\n\u001b[1;32m      4\u001b[0m     dataset \u001b[38;5;241m=\u001b[39m f[\u001b[38;5;124m'\u001b[39m\u001b[38;5;124mdataset_name\u001b[39m\u001b[38;5;124m'\u001b[39m][:]\n\u001b[1;32m      6\u001b[0m     \u001b[38;5;66;03m# Convert the data to PyTorch tensors\u001b[39;00m\n",
      "File \u001b[0;32m~/anaconda3/lib/python3.11/site-packages/h5py/_hl/files.py:533\u001b[0m, in \u001b[0;36mFile.__init__\u001b[0;34m(self, name, mode, driver, libver, userblock_size, swmr, rdcc_nslots, rdcc_nbytes, rdcc_w0, track_order, fs_strategy, fs_persist, fs_threshold, fs_page_size, page_buf_size, min_meta_keep, min_raw_keep, locking, alignment_threshold, alignment_interval, **kwds)\u001b[0m\n\u001b[1;32m    525\u001b[0m     fapl \u001b[38;5;241m=\u001b[39m make_fapl(driver, libver, rdcc_nslots, rdcc_nbytes, rdcc_w0,\n\u001b[1;32m    526\u001b[0m                      locking, page_buf_size, min_meta_keep, min_raw_keep,\n\u001b[1;32m    527\u001b[0m                      alignment_threshold\u001b[38;5;241m=\u001b[39malignment_threshold,\n\u001b[1;32m    528\u001b[0m                      alignment_interval\u001b[38;5;241m=\u001b[39malignment_interval,\n\u001b[1;32m    529\u001b[0m                      \u001b[38;5;241m*\u001b[39m\u001b[38;5;241m*\u001b[39mkwds)\n\u001b[1;32m    530\u001b[0m     fcpl \u001b[38;5;241m=\u001b[39m make_fcpl(track_order\u001b[38;5;241m=\u001b[39mtrack_order, fs_strategy\u001b[38;5;241m=\u001b[39mfs_strategy,\n\u001b[1;32m    531\u001b[0m                      fs_persist\u001b[38;5;241m=\u001b[39mfs_persist, fs_threshold\u001b[38;5;241m=\u001b[39mfs_threshold,\n\u001b[1;32m    532\u001b[0m                      fs_page_size\u001b[38;5;241m=\u001b[39mfs_page_size)\n\u001b[0;32m--> 533\u001b[0m     fid \u001b[38;5;241m=\u001b[39m make_fid(name, mode, userblock_size, fapl, fcpl, swmr\u001b[38;5;241m=\u001b[39mswmr)\n\u001b[1;32m    535\u001b[0m \u001b[38;5;28;01mif\u001b[39;00m \u001b[38;5;28misinstance\u001b[39m(libver, \u001b[38;5;28mtuple\u001b[39m):\n\u001b[1;32m    536\u001b[0m     \u001b[38;5;28mself\u001b[39m\u001b[38;5;241m.\u001b[39m_libver \u001b[38;5;241m=\u001b[39m libver\n",
      "File \u001b[0;32m~/anaconda3/lib/python3.11/site-packages/h5py/_hl/files.py:226\u001b[0m, in \u001b[0;36mmake_fid\u001b[0;34m(name, mode, userblock_size, fapl, fcpl, swmr)\u001b[0m\n\u001b[1;32m    224\u001b[0m     \u001b[38;5;28;01mif\u001b[39;00m swmr \u001b[38;5;129;01mand\u001b[39;00m swmr_support:\n\u001b[1;32m    225\u001b[0m         flags \u001b[38;5;241m|\u001b[39m\u001b[38;5;241m=\u001b[39m h5f\u001b[38;5;241m.\u001b[39mACC_SWMR_READ\n\u001b[0;32m--> 226\u001b[0m     fid \u001b[38;5;241m=\u001b[39m h5f\u001b[38;5;241m.\u001b[39mopen(name, flags, fapl\u001b[38;5;241m=\u001b[39mfapl)\n\u001b[1;32m    227\u001b[0m \u001b[38;5;28;01melif\u001b[39;00m mode \u001b[38;5;241m==\u001b[39m \u001b[38;5;124m'\u001b[39m\u001b[38;5;124mr+\u001b[39m\u001b[38;5;124m'\u001b[39m:\n\u001b[1;32m    228\u001b[0m     fid \u001b[38;5;241m=\u001b[39m h5f\u001b[38;5;241m.\u001b[39mopen(name, h5f\u001b[38;5;241m.\u001b[39mACC_RDWR, fapl\u001b[38;5;241m=\u001b[39mfapl)\n",
      "File \u001b[0;32mh5py/_objects.pyx:54\u001b[0m, in \u001b[0;36mh5py._objects.with_phil.wrapper\u001b[0;34m()\u001b[0m\n",
      "File \u001b[0;32mh5py/_objects.pyx:55\u001b[0m, in \u001b[0;36mh5py._objects.with_phil.wrapper\u001b[0;34m()\u001b[0m\n",
      "File \u001b[0;32mh5py/h5f.pyx:106\u001b[0m, in \u001b[0;36mh5py.h5f.open\u001b[0;34m()\u001b[0m\n",
      "\u001b[0;31mOSError\u001b[0m: Unable to open file (file signature not found)"
     ]
    }
   ],
   "source": [
    "# Open the HDF5 file\n",
    "with h5py.File(PRE_LM_PATH, 'r') as f:\n",
    "    # Read the dataset(s) from the HDF5 file\n",
    "    dataset = f['dataset_name'][:]\n",
    "    \n",
    "    # Convert the data to PyTorch tensors\n",
    "    tensor_data = torch.tensor(dataset)  # or torch.from_numpy(dataset)\n",
    "\n",
    "# Use the tensor data as needed\n",
    "print(tensor_data)"
   ]
  },
  {
   "cell_type": "code",
   "execution_count": null,
   "id": "221ff932",
   "metadata": {},
   "outputs": [],
   "source": []
  }
 ],
 "metadata": {
  "kernelspec": {
   "display_name": "Python 3 (ipykernel)",
   "language": "python",
   "name": "python3"
  },
  "language_info": {
   "codemirror_mode": {
    "name": "ipython",
    "version": 3
   },
   "file_extension": ".py",
   "mimetype": "text/x-python",
   "name": "python",
   "nbconvert_exporter": "python",
   "pygments_lexer": "ipython3",
   "version": "3.11.4"
  }
 },
 "nbformat": 4,
 "nbformat_minor": 5
}
