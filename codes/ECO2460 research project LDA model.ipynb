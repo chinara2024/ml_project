{
 "cells": [
  {
   "cell_type": "code",
   "execution_count": 1,
   "id": "de2f545e",
   "metadata": {
    "scrolled": true
   },
   "outputs": [
    {
     "name": "stdout",
     "output_type": "stream",
     "text": [
      "Requirement already satisfied: pyLDAvis in /opt/conda/lib/python3.11/site-packages (3.4.1)\n",
      "Requirement already satisfied: numpy>=1.24.2 in /opt/conda/lib/python3.11/site-packages (from pyLDAvis) (1.24.4)\n",
      "Requirement already satisfied: scipy in /opt/conda/lib/python3.11/site-packages (from pyLDAvis) (1.11.4)\n",
      "Requirement already satisfied: pandas>=2.0.0 in /opt/conda/lib/python3.11/site-packages (from pyLDAvis) (2.1.3)\n",
      "Requirement already satisfied: joblib>=1.2.0 in /opt/conda/lib/python3.11/site-packages (from pyLDAvis) (1.3.2)\n",
      "Requirement already satisfied: jinja2 in /opt/conda/lib/python3.11/site-packages (from pyLDAvis) (3.1.2)\n",
      "Requirement already satisfied: numexpr in /opt/conda/lib/python3.11/site-packages (from pyLDAvis) (2.8.7)\n",
      "Requirement already satisfied: funcy in /opt/conda/lib/python3.11/site-packages (from pyLDAvis) (2.0)\n",
      "Requirement already satisfied: scikit-learn>=1.0.0 in /opt/conda/lib/python3.11/site-packages (from pyLDAvis) (1.3.2)\n",
      "Requirement already satisfied: gensim in /opt/conda/lib/python3.11/site-packages (from pyLDAvis) (4.3.2)\n",
      "Requirement already satisfied: setuptools in /opt/conda/lib/python3.11/site-packages (from pyLDAvis) (68.2.2)\n",
      "Requirement already satisfied: python-dateutil>=2.8.2 in /opt/conda/lib/python3.11/site-packages (from pandas>=2.0.0->pyLDAvis) (2.8.2)\n",
      "Requirement already satisfied: pytz>=2020.1 in /opt/conda/lib/python3.11/site-packages (from pandas>=2.0.0->pyLDAvis) (2023.3.post1)\n",
      "Requirement already satisfied: tzdata>=2022.1 in /opt/conda/lib/python3.11/site-packages (from pandas>=2.0.0->pyLDAvis) (2023.3)\n",
      "Requirement already satisfied: threadpoolctl>=2.0.0 in /opt/conda/lib/python3.11/site-packages (from scikit-learn>=1.0.0->pyLDAvis) (3.2.0)\n",
      "Requirement already satisfied: smart-open>=1.8.1 in /opt/conda/lib/python3.11/site-packages (from gensim->pyLDAvis) (5.2.1)\n",
      "Requirement already satisfied: MarkupSafe>=2.0 in /opt/conda/lib/python3.11/site-packages (from jinja2->pyLDAvis) (2.1.3)\n",
      "Requirement already satisfied: six>=1.5 in /opt/conda/lib/python3.11/site-packages (from python-dateutil>=2.8.2->pandas>=2.0.0->pyLDAvis) (1.16.0)\n"
     ]
    },
    {
     "name": "stderr",
     "output_type": "stream",
     "text": [
      "[nltk_data] Downloading package stopwords to /opt/conda/nltk_data...\n",
      "[nltk_data]   Package stopwords is already up-to-date!\n"
     ]
    }
   ],
   "source": [
    "# import necessary packages\n",
    "!pip install pyLDAvis\n",
    "\n",
    "import pandas as pd\n",
    "import matplotlib.pyplot as plt\n",
    "import os\n",
    "import gensim\n",
    "from gensim import corpora\n",
    "from gensim.utils import simple_preprocess\n",
    "from gensim.models import CoherenceModel\n",
    "import nltk\n",
    "from nltk.corpus import stopwords\n",
    "nltk.download('stopwords')\n",
    "\n",
    "import re\n",
    "from pprint import pprint\n",
    "import pyLDAvis\n",
    "import pyLDAvis.gensim_models as gensimvis\n",
    "import pickle \n"
   ]
  },
  {
   "cell_type": "code",
   "execution_count": 2,
   "id": "a77c9346",
   "metadata": {},
   "outputs": [],
   "source": [
    "# reading csv file \n",
    "mpr = pd.read_csv('train.csv', names = [\"text\", \"sentence\"])\n",
    "mpr = mpr.drop('text', axis=1)"
   ]
  },
  {
   "cell_type": "code",
   "execution_count": 3,
   "id": "36aa1131",
   "metadata": {},
   "outputs": [
    {
     "name": "stderr",
     "output_type": "stream",
     "text": [
      "<>:3: DeprecationWarning: invalid escape sequence '\\.'\n",
      "<>:3: DeprecationWarning: invalid escape sequence '\\.'\n",
      "/tmp/ipykernel_6875/1647124327.py:3: DeprecationWarning: invalid escape sequence '\\.'\n",
      "  mpr['sentence'].map(lambda x: re.sub('[,\\.!?]', '', x))\n"
     ]
    }
   ],
   "source": [
    "# remove punctuation \n",
    "mpr['mpr_text'] = \\\n",
    "mpr['sentence'].map(lambda x: re.sub('[,\\.!?]', '', x))\n",
    "\n",
    "# Convert the titles to lowercase \n",
    "mpr['mpr_text'] = \\\n",
    "mpr['mpr_text'].map(lambda x: x.lower())\n"
   ]
  },
  {
   "cell_type": "code",
   "execution_count": 4,
   "id": "73a18b41",
   "metadata": {
    "scrolled": true
   },
   "outputs": [
    {
     "data": {
      "text/plain": [
       "0    exports of a wide range of canadian goods are ...\n",
       "1    additionally the rate of change in core food p...\n",
       "2    beyond 2017 gdp growth is forecast to broaden ...\n",
       "3    export volumes grew briskly in the first half ...\n",
       "4    in response to reduced prospects for growth ce...\n",
       "Name: mpr_text, dtype: object"
      ]
     },
     "execution_count": 4,
     "metadata": {},
     "output_type": "execute_result"
    }
   ],
   "source": [
    "mpr['mpr_text'].head()"
   ]
  },
  {
   "cell_type": "code",
   "execution_count": 5,
   "id": "7a956c34",
   "metadata": {},
   "outputs": [
    {
     "name": "stdout",
     "output_type": "stream",
     "text": [
      "['exports', 'wide', 'range', 'canadian', 'goods', 'expected', 'benefit', 'including', 'aircraft', 'medium', 'heavy', 'trucks', 'specialized', 'machinery', 'equipment']\n"
     ]
    }
   ],
   "source": [
    "# tokenizing the text and removing stopwords \n",
    "stop_words = stopwords.words('english')\n",
    "\n",
    "def sent_to_words(sentences):\n",
    "    for sentence in sentences:\n",
    "        yield(gensim.utils.simple_preprocess(str(sentence), deacc=True))\n",
    "\n",
    "def remove_stopwords(texts):\n",
    "    return [[word for word in simple_preprocess(str(doc)) \n",
    "             if word not in stop_words] for doc in texts]\n",
    "\n",
    "\n",
    "words = mpr.mpr_text.values.tolist()\n",
    "word_list = list(sent_to_words(words))\n",
    "\n",
    "word_list = remove_stopwords(word_list)\n",
    "\n",
    "# Print first 50 words\n",
    "print(word_list[:1][0][:50])"
   ]
  },
  {
   "cell_type": "code",
   "execution_count": 6,
   "id": "bfbbb291",
   "metadata": {},
   "outputs": [
    {
     "name": "stdout",
     "output_type": "stream",
     "text": [
      "[(0, 1), (1, 1), (2, 1), (3, 1), (4, 1), (5, 1), (6, 1), (7, 1), (8, 1), (9, 1), (10, 1), (11, 1), (12, 1), (13, 1), (14, 1)]\n"
     ]
    }
   ],
   "source": [
    "# create a dictionary from this word list to use later in the LDA model\n",
    "\n",
    "# create dictionary\n",
    "dict_word = corpora.Dictionary(word_list)\n",
    "\n",
    "# create corpus \n",
    "texts = word_list \n",
    "\n",
    "# term document frequency\n",
    "corpus = [dict_word.doc2bow(text) for text in texts]\n",
    "\n",
    "print(corpus[:1][0][:30])"
   ]
  },
  {
   "cell_type": "code",
   "execution_count": 12,
   "id": "5cb09479",
   "metadata": {
    "scrolled": true
   },
   "outputs": [
    {
     "name": "stdout",
     "output_type": "stream",
     "text": [
      "[(0,\n",
      "  '0.032*\"growth\" + 0.016*\"recent\" + 0.013*\"prices\" + 0.013*\"labour\" + '\n",
      "  '0.011*\"first\" + 0.010*\"outlook\" + 0.010*\"market\" + 0.010*\"demand\" + '\n",
      "  '0.010*\"indicators\" + 0.009*\"fiscal\"'),\n",
      " (38,\n",
      "  '0.050*\"growth\" + 0.023*\"expected\" + 0.019*\"economic\" + 0.019*\"output\" + '\n",
      "  '0.015*\"quarter\" + 0.014*\"gap\" + 0.014*\"real\" + 0.014*\"gdp\" + 0.013*\"per\" + '\n",
      "  '0.012*\"cent\"'),\n",
      " (10,\n",
      "  '0.016*\"gains\" + 0.011*\"trade\" + 0.011*\"real\" + 0.011*\"demand\" + '\n",
      "  '0.011*\"offset\" + 0.011*\"labour\" + 0.011*\"market\" + 0.011*\"recession\" + '\n",
      "  '0.011*\"levels\" + 0.011*\"lumber\"'),\n",
      " (20,\n",
      "  '0.040*\"per\" + 0.039*\"cent\" + 0.022*\"growth\" + 0.019*\"expected\" + '\n",
      "  '0.016*\"rate\" + 0.015*\"real\" + 0.015*\"bank\" + 0.014*\"gdp\" + 0.013*\"economy\" '\n",
      "  '+ 0.013*\"projected\"'),\n",
      " (32,\n",
      "  '0.029*\"demand\" + 0.020*\"growth\" + 0.019*\"exports\" + 0.018*\"per\" + '\n",
      "  '0.018*\"cent\" + 0.017*\"canadian\" + 0.015*\"gdp\" + 0.013*\"services\" + '\n",
      "  '0.010*\"euro\" + 0.010*\"area\"'),\n",
      " (11,\n",
      "  '0.025*\"also\" + 0.015*\"demand\" + 0.015*\"recent\" + 0.014*\"prices\" + '\n",
      "  '0.013*\"us\" + 0.012*\"year\" + 0.010*\"relative\" + 0.010*\"weather\" + '\n",
      "  '0.010*\"supply\" + 0.010*\"greater\"'),\n",
      " (33,\n",
      "  '0.018*\"demand\" + 0.016*\"prices\" + 0.013*\"us\" + 0.012*\"expected\" + '\n",
      "  '0.011*\"investment\" + 0.011*\"oil\" + 0.011*\"price\" + 0.010*\"credit\" + '\n",
      "  '0.010*\"domestic\" + 0.010*\"services\"'),\n",
      " (22,\n",
      "  '0.021*\"prices\" + 0.020*\"dollar\" + 0.019*\"canadian\" + 0.015*\"wage\" + '\n",
      "  '0.014*\"us\" + 0.012*\"higher\" + 0.012*\"rate\" + 0.010*\"canada\" + 0.010*\"gains\" '\n",
      "  '+ 0.010*\"sector\"'),\n",
      " (1,\n",
      "  '0.020*\"investment\" + 0.020*\"cent\" + 0.020*\"projection\" + 0.020*\"year\" + '\n",
      "  '0.020*\"per\" + 0.013*\"canadian\" + 0.013*\"horizon\" + 0.013*\"easing\" + '\n",
      "  '0.013*\"demand\" + 0.013*\"japan\"'),\n",
      " (6,\n",
      "  '0.018*\"growth\" + 0.018*\"economic\" + 0.017*\"inflation\" + 0.016*\"exports\" + '\n",
      "  '0.016*\"year\" + 0.015*\"demand\" + 0.013*\"expected\" + 0.012*\"gradual\" + '\n",
      "  '0.012*\"could\" + 0.012*\"supply\"'),\n",
      " (39,\n",
      "  '0.023*\"quarter\" + 0.019*\"also\" + 0.013*\"per\" + 0.012*\"cent\" + '\n",
      "  '0.012*\"growth\" + 0.012*\"inflation\" + 0.009*\"excess\" + 0.009*\"amount\" + '\n",
      "  '0.009*\"prices\" + 0.009*\"fourth\"'),\n",
      " (23,\n",
      "  '0.016*\"spending\" + 0.015*\"commodity\" + 0.012*\"expected\" + '\n",
      "  '0.012*\"substantial\" + 0.012*\"gains\" + 0.012*\"increase\" + 0.012*\"prices\" + '\n",
      "  '0.012*\"firms\" + 0.011*\"price\" + 0.011*\"full\"'),\n",
      " (3,\n",
      "  '0.025*\"year\" + 0.020*\"rates\" + 0.015*\"term\" + 0.015*\"percentage\" + '\n",
      "  '0.015*\"spending\" + 0.011*\"points\" + 0.010*\"rate\" + 0.010*\"demand\" + '\n",
      "  '0.010*\"half\" + 0.010*\"expected\"'),\n",
      " (2,\n",
      "  '0.021*\"us\" + 0.017*\"market\" + 0.016*\"financial\" + 0.013*\"significant\" + '\n",
      "  '0.013*\"growth\" + 0.013*\"europe\" + 0.011*\"could\" + 0.011*\"housing\" + '\n",
      "  '0.011*\"structural\" + 0.011*\"global\"'),\n",
      " (7,\n",
      "  '0.021*\"growth\" + 0.019*\"canadian\" + 0.016*\"demand\" + 0.015*\"expected\" + '\n",
      "  '0.015*\"inflation\" + 0.012*\"us\" + 0.012*\"lower\" + 0.012*\"anticipated\" + '\n",
      "  '0.012*\"bank\" + 0.010*\"domestic\"'),\n",
      " (21,\n",
      "  '0.018*\"growth\" + 0.012*\"prices\" + 0.012*\"higher\" + 0.012*\"expected\" + '\n",
      "  '0.011*\"continue\" + 0.011*\"oil\" + 0.011*\"rate\" + 0.009*\"half\" + '\n",
      "  '0.009*\"measures\" + 0.009*\"also\"'),\n",
      " (18,\n",
      "  '0.019*\"growth\" + 0.016*\"economic\" + 0.015*\"government\" + 0.015*\"market\" + '\n",
      "  '0.015*\"new\" + 0.015*\"labour\" + 0.014*\"past\" + 0.014*\"businesses\" + '\n",
      "  '0.011*\"us\" + 0.008*\"major\"'),\n",
      " (31,\n",
      "  '0.024*\"growth\" + 0.016*\"us\" + 0.015*\"market\" + 0.013*\"financial\" + '\n",
      "  '0.012*\"quarter\" + 0.011*\"banks\" + 0.011*\"year\" + 0.011*\"canadian\" + '\n",
      "  '0.011*\"global\" + 0.010*\"economic\"'),\n",
      " (29,\n",
      "  '0.019*\"economy\" + 0.019*\"expected\" + 0.013*\"financial\" + 0.010*\"growth\" + '\n",
      "  '0.010*\"modest\" + 0.010*\"pressures\" + 0.010*\"year\" + 0.010*\"significant\" + '\n",
      "  '0.010*\"united\" + 0.010*\"economic\"'),\n",
      " (8,\n",
      "  '0.022*\"global\" + 0.015*\"food\" + 0.015*\"energy\" + 0.015*\"markets\" + '\n",
      "  '0.015*\"inflation\" + 0.015*\"conditions\" + 0.015*\"prices\" + 0.013*\"outlook\" + '\n",
      "  '0.012*\"bank\" + 0.009*\"summer\"')]\n"
     ]
    }
   ],
   "source": [
    "# build the LDA model with number of topics \n",
    "\n",
    "# number of topics \n",
    "num_topics = 40\n",
    "\n",
    "# build LDA model \n",
    "lda_model = gensim.models.LdaMulticore(corpus=corpus, \n",
    "                                       id2word=dict_word, \n",
    "                                       num_topics=num_topics)\n",
    "\n",
    "# keyword analysis in each of the topics \n",
    "pprint(lda_model.print_topics())\n",
    "doc_lda = lda_model[corpus]"
   ]
  },
  {
   "cell_type": "code",
   "execution_count": 13,
   "id": "cb65c653",
   "metadata": {},
   "outputs": [
    {
     "name": "stdout",
     "output_type": "stream",
     "text": [
      "\n",
      "Coherence Score:  0.3296313266230976\n"
     ]
    }
   ],
   "source": [
    "coherence_model_lda = CoherenceModel(model=lda_model, texts=texts, dictionary=dict_word, coherence='c_v')\n",
    "coherence_lda = coherence_model_lda.get_coherence()\n",
    "print('\\nCoherence Score: ', coherence_lda)"
   ]
  },
  {
   "cell_type": "code",
   "execution_count": 30,
   "id": "cf206eff",
   "metadata": {},
   "outputs": [
    {
     "name": "stdout",
     "output_type": "stream",
     "text": [
      "[(0, '0.039*\"investment\" + 0.032*\"expected\" + 0.027*\"inflation\" + 0.025*\"end\" + 0.024*\"gradually\" + 0.024*\"years\" + 0.022*\"cent\" + 0.022*\"per\" + 0.017*\"moderating\" + 0.016*\"decline\"'), (1, '0.060*\"decline\" + 0.039*\"larger\" + 0.039*\"weakness\" + 0.035*\"demand\" + 0.034*\"forecast\" + 0.028*\"associated\" + 0.028*\"impact\" + 0.027*\"canadian\" + 0.024*\"gradual\" + 0.022*\"crude\"'), (2, '0.022*\"increase\" + 0.021*\"may\" + 0.021*\"real\" + 0.018*\"external\" + 0.018*\"considerably\" + 0.018*\"quarters\" + 0.017*\"factors\" + 0.017*\"confidence\" + 0.016*\"decrease\" + 0.015*\"gdp\"'), (3, '0.030*\"euro\" + 0.030*\"term\" + 0.024*\"conditions\" + 0.023*\"labour\" + 0.022*\"area\" + 0.019*\"near\" + 0.017*\"market\" + 0.017*\"debt\" + 0.016*\"markets\" + 0.015*\"financial\"'), (4, '0.036*\"increased\" + 0.033*\"economies\" + 0.029*\"business\" + 0.028*\"remains\" + 0.026*\"credit\" + 0.026*\"growth\" + 0.023*\"low\" + 0.021*\"remain\" + 0.019*\"facing\" + 0.019*\"major\"'), (5, '0.028*\"risk\" + 0.027*\"overall\" + 0.025*\"growth\" + 0.024*\"negative\" + 0.020*\"european\" + 0.020*\"high\" + 0.017*\"april\" + 0.016*\"authorities\" + 0.016*\"considerable\" + 0.016*\"canadian\"'), (6, '0.059*\"recent\" + 0.055*\"government\" + 0.051*\"spending\" + 0.037*\"months\" + 0.031*\"also\" + 0.029*\"investment\" + 0.028*\"businesses\" + 0.026*\"non\" + 0.024*\"growth\" + 0.022*\"picked\"'), (7, '0.044*\"canadian\" + 0.037*\"monetary\" + 0.031*\"us\" + 0.030*\"dollar\" + 0.029*\"conditions\" + 0.027*\"fiscal\" + 0.026*\"last\" + 0.023*\"outlook\" + 0.022*\"also\" + 0.021*\"report\"'), (8, '0.057*\"half\" + 0.047*\"activity\" + 0.044*\"economic\" + 0.039*\"second\" + 0.036*\"economy\" + 0.027*\"first\" + 0.025*\"global\" + 0.024*\"projected\" + 0.022*\"capacity\" + 0.022*\"particular\"'), (9, '0.046*\"canadian\" + 0.042*\"dollar\" + 0.033*\"canada\" + 0.028*\"inflation\" + 0.025*\"us\" + 0.023*\"pressures\" + 0.022*\"mainly\" + 0.021*\"lower\" + 0.020*\"come\" + 0.020*\"subdued\"'), (10, '0.034*\"expected\" + 0.032*\"united\" + 0.028*\"states\" + 0.021*\"exports\" + 0.019*\"economy\" + 0.019*\"oil\" + 0.019*\"prices\" + 0.017*\"investment\" + 0.017*\"economic\" + 0.017*\"continued\"'), (11, '0.071*\"growth\" + 0.040*\"somewhat\" + 0.039*\"anticipated\" + 0.038*\"expected\" + 0.036*\"economic\" + 0.028*\"canada\" + 0.027*\"report\" + 0.023*\"first\" + 0.020*\"half\" + 0.016*\"demand\"'), (12, '0.017*\"funding\" + 0.006*\"continue\" + 0.006*\"appetite\" + 0.006*\"healthy\" + 0.006*\"security\" + 0.006*\"offerings\" + 0.006*\"corporations\" + 0.006*\"back\" + 0.006*\"held\" + 0.006*\"headwinds\"'), (13, '0.068*\"financial\" + 0.046*\"markets\" + 0.046*\"result\" + 0.034*\"recession\" + 0.031*\"measures\" + 0.030*\"institutions\" + 0.030*\"measure\" + 0.020*\"solid\" + 0.020*\"taken\" + 0.020*\"banks\"'), (14, '0.034*\"canada\" + 0.029*\"exports\" + 0.029*\"competitiveness\" + 0.027*\"bank\" + 0.025*\"export\" + 0.024*\"challenges\" + 0.019*\"volatility\" + 0.018*\"range\" + 0.018*\"provide\" + 0.017*\"relatively\"'), (15, '0.048*\"demand\" + 0.032*\"growth\" + 0.031*\"inflation\" + 0.028*\"exports\" + 0.024*\"global\" + 0.020*\"year\" + 0.019*\"projection\" + 0.019*\"expectations\" + 0.018*\"interest\" + 0.018*\"rate\"'), (16, '0.071*\"cent\" + 0.071*\"per\" + 0.059*\"quarter\" + 0.042*\"growth\" + 0.034*\"gdp\" + 0.031*\"third\" + 0.028*\"real\" + 0.027*\"expected\" + 0.021*\"projected\" + 0.021*\"lower\"'), (17, '0.045*\"per\" + 0.043*\"cent\" + 0.039*\"sector\" + 0.025*\"year\" + 0.024*\"average\" + 0.022*\"factors\" + 0.021*\"us\" + 0.020*\"inflation\" + 0.018*\"equipment\" + 0.017*\"public\"'), (18, '0.034*\"us\" + 0.027*\"earlier\" + 0.023*\"policy\" + 0.021*\"many\" + 0.021*\"price\" + 0.020*\"households\" + 0.019*\"rates\" + 0.018*\"however\" + 0.017*\"interest\" + 0.017*\"market\"'), (19, '0.092*\"prices\" + 0.055*\"oil\" + 0.023*\"commodity\" + 0.023*\"year\" + 0.021*\"trade\" + 0.020*\"world\" + 0.018*\"energy\" + 0.017*\"reflecting\" + 0.016*\"global\" + 0.016*\"terms\"')]\n"
     ]
    }
   ],
   "source": [
    "from gensim.models.ldamodel import LdaModel\n",
    "# Set parameters.\n",
    "num_topics = 20\n",
    "chunksize = 500 \n",
    "passes = 20 \n",
    "iterations = 400\n",
    "eval_every = 1  \n",
    "\n",
    "\n",
    "lda_model = LdaModel(corpus=corpus, id2word=dict_word, chunksize=chunksize, \\\n",
    "                       alpha='auto', eta='auto', \\\n",
    "                       iterations=iterations, num_topics=num_topics, \\\n",
    "                       passes=passes, eval_every=eval_every)\n",
    "# Print the Keyword in the 10 topics\n",
    "print(lda_model.print_topics())"
   ]
  },
  {
   "cell_type": "code",
   "execution_count": 31,
   "id": "821e7d3b",
   "metadata": {},
   "outputs": [
    {
     "name": "stdout",
     "output_type": "stream",
     "text": [
      "\n",
      "Coherence Score:  [0.4062487732975836, 0.4221232439859186, 0.5359782284922242, 0.35617428041069765, 0.19638611379773846, 0.4302224764424021, 0.36981807845907433, 0.3407804955329895, 0.30043439647876957, 0.439244100071959, 0.2969456014671477, 0.3034089307170203, 0.5144066049122287, 0.47077617374433134, 0.40145819913261616, 0.2912885280628375, 0.5033237187967797, 0.3588187754631952, 0.4378904905233926, 0.40277487182420824]\n"
     ]
    }
   ],
   "source": [
    "# Compute Coherence Score using c_v\n",
    "coherence_model_lda = CoherenceModel(model=lda_model, texts=texts, dictionary=dict_word, coherence='c_v')\n",
    "coherence_ldas = coherence_model_lda.get_coherence_per_topic()\n",
    "print('\\nCoherence Score: ', coherence_ldas)"
   ]
  },
  {
   "cell_type": "code",
   "execution_count": 32,
   "id": "15034d05",
   "metadata": {},
   "outputs": [
    {
     "data": {
      "image/png": "[encoded data removed]",
      "text/plain": [
       "<Figure size 640x480 with 1 Axes>"
      ]
     },
     "metadata": {},
     "output_type": "display_data"
    }
   ],
   "source": [
    "import matplotlib.pyplot as plt\n",
    "import numpy as np\n",
    "topicsname=[]\n",
    "for i in range(1,num_topics+1):\n",
    "    topicsname.append(\"t{0}\".format(i))\n",
    "topicsname\n",
    "\n",
    "plt.plot(topicsname,coherence_ldas)\n",
    "plt.xlabel(\"Num Topics\")\n",
    "plt.ylabel(\"Coherence score\")\n",
    "plt.legend((\"coherence_values\"), loc='best')\n",
    "plt.show()\n"
   ]
  },
  {
   "cell_type": "code",
   "execution_count": null,
   "id": "5e1754c2",
   "metadata": {},
   "outputs": [],
   "source": []
  },
  {
   "cell_type": "code",
   "execution_count": null,
   "id": "60ac3561",
   "metadata": {},
   "outputs": [],
   "source": []
  },
  {
   "cell_type": "code",
   "execution_count": null,
   "id": "b412be98",
   "metadata": {},
   "outputs": [],
   "source": []
  },
  {
   "cell_type": "code",
   "execution_count": null,
   "id": "a27c3f89",
   "metadata": {},
   "outputs": [],
   "source": []
  },
  {
   "cell_type": "code",
   "execution_count": null,
   "id": "9a603044",
   "metadata": {},
   "outputs": [],
   "source": []
  },
  {
   "cell_type": "code",
   "execution_count": null,
   "id": "67d20227",
   "metadata": {},
   "outputs": [],
   "source": []
  },
  {
   "cell_type": "code",
   "execution_count": null,
   "id": "33107e86",
   "metadata": {},
   "outputs": [],
   "source": []
  }
 ],
 "metadata": {
  "kernelspec": {
   "display_name": "Python 3 (ipykernel)",
   "language": "python",
   "name": "python3"
  },
  "language_info": {
   "codemirror_mode": {
    "name": "ipython",
    "version": 3
   },
   "file_extension": ".py",
   "mimetype": "text/x-python",
   "name": "python",
   "nbconvert_exporter": "python",
   "pygments_lexer": "ipython3",
   "version": "3.11.6"
  }
 },
 "nbformat": 4,
 "nbformat_minor": 5
}
